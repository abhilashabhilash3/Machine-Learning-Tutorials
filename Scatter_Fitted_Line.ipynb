{
  "nbformat": 4,
  "nbformat_minor": 0,
  "metadata": {
    "colab": {
      "provenance": [],
      "collapsed_sections": [],
      "authorship_tag": "ABX9TyOjmzZPRFIjBaqJOnyrWlz6",
      "include_colab_link": true
    },
    "kernelspec": {
      "name": "python3",
      "display_name": "Python 3"
    },
    "language_info": {
      "name": "python"
    }
  },
  "cells": [
    {
      "cell_type": "markdown",
      "metadata": {
        "id": "view-in-github",
        "colab_type": "text"
      },
      "source": [
        "<a href=\"https://colab.research.google.com/github/abhilashabhilash3/Machine-Learning-Tutorials/blob/main/Scatter_Fitted_Line.ipynb\" target=\"_parent\"><img src=\"https://colab.research.google.com/assets/colab-badge.svg\" alt=\"Open In Colab\"/></a>"
      ]
    },
    {
      "cell_type": "markdown",
      "source": [
        "# How to Add a Fitted Line to a Scatter plot in Python"
      ],
      "metadata": {
        "id": "j8EBT1zthWrn"
      }
    },
    {
      "cell_type": "markdown",
      "source": [
        "In this article, we will look at how to use Python to fit a straight line to the data in a scatter plot. This line, sometimes referred to as the linear regression trendline, describes the strength and nature of the relationship between the two given variables. For instance, predicting a person's income based on their years of experience, the overall increase in stock value over a number of years, or crop yields depending on the amount of rainfall. \n",
        "\n",
        "Interestingly, there are two simple methods in Python for fitting a straight line to a scatter plot. We'll go through each of them in more depth below."
      ],
      "metadata": {
        "id": "zWmC0bxahTXW"
      }
    },
    {
      "cell_type": "markdown",
      "source": [
        "## Table of Contents:"
      ],
      "metadata": {
        "id": "OF-RY_dXjQe7"
      }
    },
    {
      "cell_type": "markdown",
      "source": [
        "1.   Example Data\n",
        "2.   Method 1: Using Matplotlib\n",
        "3.   Method 2: Using Seaborn\n",
        "4.   Summary\n",
        "\n",
        "\n",
        "\n"
      ],
      "metadata": {
        "id": "srQ60g1VjXZ7"
      }
    },
    {
      "cell_type": "markdown",
      "source": [
        "## Example Data"
      ],
      "metadata": {
        "id": "zj2vbSy0j0Wn"
      }
    },
    {
      "cell_type": "markdown",
      "source": [
        "As a simple example, we would like to predict a person's income based on their years of experience. A scatter plot would then consist of one dot for each person, indicating their years of experience (x) and income (y)."
      ],
      "metadata": {
        "id": "8cL8yq05w9gr"
      }
    },
    {
      "cell_type": "markdown",
      "source": [
        "This tutorial explains both methods using the scatter plot obtained from following data:"
      ],
      "metadata": {
        "id": "rogQQHuJqsbm"
      }
    },
    {
      "cell_type": "code",
      "source": [
        "years = [1, 2, 3, 4, 5, 6, 7, 8, 9, 10, 11, 12, 13, 14, 15, 16, 17, 18, 19, 20]\n",
        "income = [13, 14, 14, 25, 30, 31, 38, 32, 40, 60, 44, 46, 52, 55, 55, 65, 50, 66, 70, 71]"
      ],
      "metadata": {
        "id": "D-kX3Hs5qrk7"
      },
      "execution_count": 4,
      "outputs": []
    },
    {
      "cell_type": "markdown",
      "source": [
        "## Method 1: Using Matplotlib\n",
        "\n"
      ],
      "metadata": {
        "id": "jtDpK7xNyjXl"
      }
    },
    {
      "cell_type": "markdown",
      "source": [
        "This section shows how to overlay a regression line on a scatterplot using a Python library called Matplotlib. The linear regression fit is obtained with numpy.polyfit(x, y) where x and y are two one dimensional arrays that contain the data shown in the scatterplot. The slope and intercept returned by this function are used to plot the regression line.\n",
        "\n",
        "First, we need to import the matplotlib library:"
      ],
      "metadata": {
        "id": "Tt_06SwRj_iF"
      }
    },
    {
      "cell_type": "code",
      "source": [
        "import matplotlib.pyplot as plt"
      ],
      "metadata": {
        "id": "CHgwfRQDhU_e"
      },
      "execution_count": 5,
      "outputs": []
    },
    {
      "cell_type": "markdown",
      "source": [
        "We are using the plot function to create the scatter plot."
      ],
      "metadata": {
        "id": "5ohHOaD-q7h3"
      }
    },
    {
      "cell_type": "code",
      "source": [
        "plt.plot(years, income, 'bo')"
      ],
      "metadata": {
        "colab": {
          "base_uri": "https://localhost:8080/",
          "height": 282
        },
        "id": "EHAD1D1x9TE2",
        "outputId": "a845dbe2-e70c-4c31-dfbd-e2d46ebd2a7f"
      },
      "execution_count": 6,
      "outputs": [
        {
          "output_type": "execute_result",
          "data": {
            "text/plain": [
              "[<matplotlib.lines.Line2D at 0x7f8934878990>]"
            ]
          },
          "metadata": {},
          "execution_count": 6
        },
        {
          "output_type": "display_data",
          "data": {
            "text/plain": [
              "<Figure size 432x288 with 1 Axes>"
            ],
            "image/png": "[encoded data removed]"
          },
          "metadata": {
            "needs_background": "light"
          }
        }
      ]
    },
    {
      "cell_type": "markdown",
      "source": [
        "The style 'bo' denotes a round marker and the colour blue. In the example data, the first person has 1 year of experience and their income is 13 and the second person has 2 years of experience and their income is 14, and so on."
      ],
      "metadata": {
        "id": "D5urSXxZ9XTu"
      }
    },
    {
      "cell_type": "markdown",
      "source": [
        "### Fitting a Straight Line"
      ],
      "metadata": {
        "id": "Z09PeFH1nfoC"
      }
    },
    {
      "cell_type": "markdown",
      "source": [
        "When fitting a straight line to a scattered plot, we look for the line that most accurately depicts the data.  The least squares approach is a popular technique for selecting a straight line that matches the scatter data.\n",
        "\n",
        "For a given set of points ($x_{n}$, $y_{n}$) and a line L, for each point we calculate the distance, $d_{n}$, between the point and the line, like this:"
      ],
      "metadata": {
        "id": "QlrcHj2Dnany"
      }
    },
    {
      "cell_type": "markdown",
      "source": [
        "![least-squares.png](data:image/png;base64,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)"
      ],
      "metadata": {
        "id": "RVjRNndte3CZ"
      }
    },
    {
      "cell_type": "markdown",
      "source": [
        "We can then calculate the sum of the squares of the distances:"
      ],
      "metadata": {
        "id": "Lb0PIqWnnx-o"
      }
    },
    {
      "cell_type": "markdown",
      "source": [
        "```\n",
        "s = d0*d0 + d1*d1 + d2*d2 ...\n",
        "```\n",
        "\n"
      ],
      "metadata": {
        "id": "TRRh_kCBn3TV"
      }
    },
    {
      "cell_type": "markdown",
      "source": [
        "This sum is a measure of the total error of the line fit. The best line is the one that has the smallest s value.\n",
        "\n",
        "There is a formula for finding the best fit of a line to a set of (x, y) data points, and fortunately NumPy has an implementation of that formula:"
      ],
      "metadata": {
        "id": "n3yJ8dhHoUT1"
      }
    },
    {
      "cell_type": "code",
      "source": [
        "import numpy as np\n",
        "\n",
        "m, c = np.polyfit(years, income, 1)\n",
        "print(m, c)"
      ],
      "metadata": {
        "colab": {
          "base_uri": "https://localhost:8080/",
          "height": 0
        },
        "id": "zCQhUPLZojmg",
        "outputId": "38da237f-eaea-4261-e120-4ff5cf5d17d8"
      },
      "execution_count": 7,
      "outputs": [
        {
          "output_type": "stream",
          "name": "stdout",
          "text": [
            "2.993233082706768 12.121052631578959\n"
          ]
        }
      ]
    },
    {
      "cell_type": "markdown",
      "source": [
        "polyfit takes an array of x-values, an array of y-values, and a polynomial degree. Setting the degree to 1 gives a straight line fit."
      ],
      "metadata": {
        "id": "ECJ0e5kAoqwT"
      }
    },
    {
      "cell_type": "markdown",
      "source": [
        "The m and c values plug into the standard equation of a straight line:\n",
        "\n",
        "```\n",
        "y = m*x + c\n",
        "```\n",
        "\n"
      ],
      "metadata": {
        "id": "VDrc9xzdotUm"
      }
    },
    {
      "cell_type": "markdown",
      "source": [
        "This is a line that crosses the y-axis at c and has a slope of m. Using the values from the code above, the line is approximately:\n",
        "```\n",
        "y = 2.99323*x + 12.1211\n",
        "```\n",
        "\n"
      ],
      "metadata": {
        "id": "VhP6VyJco1dw"
      }
    },
    {
      "cell_type": "markdown",
      "source": [
        "### Plotting the straight-line fit"
      ],
      "metadata": {
        "id": "cCKPgPR-paNC"
      }
    },
    {
      "cell_type": "markdown",
      "source": [
        "We can now add a straight line fit to the data. We simply need to choose two values for x, and calculate the corresponding values for y. We can then draw a line that joins the two points\n",
        "\n",
        "*   When x is 0, y is about 2.99323\n",
        "*   When x is 21, y is about 74.97893\n",
        "\n",
        "The scatter plot is drawn as before, but we also draw a black, dashed line, with a style of \"k--\", that represents the best fit of a straight line to the data. Here is the code to plot the scatter chart and the fitted line:"
      ],
      "metadata": {
        "id": "3rQU4dnqpa0z"
      }
    },
    {
      "cell_type": "code",
      "source": [
        "plt.plot(years, income, 'bo')\n",
        "plt.plot([0, 21], [2.99323, 74.97893], 'k--')\n",
        "plt.show()"
      ],
      "metadata": {
        "colab": {
          "base_uri": "https://localhost:8080/",
          "height": 265
        },
        "id": "XFT0B0YFp3W0",
        "outputId": "246fa8ba-4683-43e9-c0e6-1144bde8603f"
      },
      "execution_count": 10,
      "outputs": [
        {
          "output_type": "display_data",
          "data": {
            "text/plain": [
              "<Figure size 432x288 with 1 Axes>"
            ],
            "image/png": "[encoded data removed]"
          },
          "metadata": {
            "needs_background": "light"
          }
        }
      ]
    },
    {
      "cell_type": "markdown",
      "source": [
        "##Method 2: Using Seaborn"
      ],
      "metadata": {
        "id": "kbAzLMBk2LfE"
      }
    },
    {
      "cell_type": "markdown",
      "source": [
        "The regplot() function from the Seaborn visualization library can also be used to create a scatterplot with a regression line:"
      ],
      "metadata": {
        "id": "NTUInMjq3j6v"
      }
    },
    {
      "cell_type": "code",
      "source": [
        "import seaborn as sb"
      ],
      "metadata": {
        "id": "fSJBEC3S3hKk"
      },
      "execution_count": 12,
      "outputs": []
    },
    {
      "cell_type": "code",
      "source": [
        "sb.regplot(years, income, ci=None)"
      ],
      "metadata": {
        "colab": {
          "base_uri": "https://localhost:8080/",
          "height": 337
        },
        "id": "rTjeTT-I2d5Q",
        "outputId": "590998c7-07f2-46dd-c072-c7c155549d5b"
      },
      "execution_count": 19,
      "outputs": [
        {
          "output_type": "stream",
          "name": "stderr",
          "text": [
            "/usr/local/lib/python3.7/dist-packages/seaborn/_decorators.py:43: FutureWarning: Pass the following variables as keyword args: x, y. From version 0.12, the only valid positional argument will be `data`, and passing other arguments without an explicit keyword will result in an error or misinterpretation.\n",
            "  FutureWarning\n"
          ]
        },
        {
          "output_type": "execute_result",
          "data": {
            "text/plain": [
              "<matplotlib.axes._subplots.AxesSubplot at 0x7f8922547350>"
            ]
          },
          "metadata": {},
          "execution_count": 19
        },
        {
          "output_type": "display_data",
          "data": {
            "text/plain": [
              "<Figure size 432x288 with 1 Axes>"
            ],
            "image/png": "[encoded data removed]"
          },
          "metadata": {
            "needs_background": "light"
          }
        }
      ]
    },
    {
      "cell_type": "markdown",
      "source": [
        "Note that ci = None tells Seaborn to hide the confidence interval bands on the plot. It can be shown by leaving the ci blank as shown below:"
      ],
      "metadata": {
        "id": "fkE4g6K72p3X"
      }
    },
    {
      "cell_type": "code",
      "source": [
        "import seaborn as sb\n",
        "\n",
        "sb.regplot(years, income)"
      ],
      "metadata": {
        "colab": {
          "base_uri": "https://localhost:8080/",
          "height": 337
        },
        "id": "LeIkeALf2uoI",
        "outputId": "e58a6d0d-de70-4768-a4a6-a6f04258a0ed"
      },
      "execution_count": 20,
      "outputs": [
        {
          "output_type": "stream",
          "name": "stderr",
          "text": [
            "/usr/local/lib/python3.7/dist-packages/seaborn/_decorators.py:43: FutureWarning: Pass the following variables as keyword args: x, y. From version 0.12, the only valid positional argument will be `data`, and passing other arguments without an explicit keyword will result in an error or misinterpretation.\n",
            "  FutureWarning\n"
          ]
        },
        {
          "output_type": "execute_result",
          "data": {
            "text/plain": [
              "<matplotlib.axes._subplots.AxesSubplot at 0x7f8922452190>"
            ]
          },
          "metadata": {},
          "execution_count": 20
        },
        {
          "output_type": "display_data",
          "data": {
            "text/plain": [
              "<Figure size 432x288 with 1 Axes>"
            ],
            "image/png": "[encoded data removed]"
          },
          "metadata": {
            "needs_background": "light"
          }
        }
      ]
    },
    {
      "cell_type": "markdown",
      "source": [
        "##  What does the Regression line mean?"
      ],
      "metadata": {
        "id": "e_AFW4iDMtZx"
      }
    },
    {
      "cell_type": "markdown",
      "source": [
        "The regression line in our example problem is defined as:\n",
        "\n",
        "```\n",
        "y = 2.99323*x + 12.1211\n",
        "```\n",
        "This equation makes it easier to figure out what the income value could be at any experience level with a certain degree of confidence. For example, what could be the income for someone with 25 years of experience? Let's check!\n",
        "\n",
        "Plugging 25 for x in the above equation, we obtain y as 87. Hence, if the trend holds, the income value for someone with 25 years experience is about 87."
      ],
      "metadata": {
        "id": "Wtx8JVh5NQwC"
      }
    },
    {
      "cell_type": "code",
      "source": [
        "y = 2.99323*25 + 12.1211\n",
        "print(y)"
      ],
      "metadata": {
        "colab": {
          "base_uri": "https://localhost:8080/",
          "height": 0
        },
        "id": "52RHx8YXO7vW",
        "outputId": "a66447a7-78ce-4e09-aae3-faa4225fe007"
      },
      "execution_count": 17,
      "outputs": [
        {
          "output_type": "stream",
          "name": "stdout",
          "text": [
            "86.95185\n"
          ]
        }
      ]
    },
    {
      "cell_type": "markdown",
      "source": [
        "## Summary"
      ],
      "metadata": {
        "id": "fgtz54xjkONR"
      }
    },
    {
      "cell_type": "markdown",
      "source": [
        "This tutorial has shown you an example of how a linear regression trendline can help you make decisions or make a broad prediction of the past or future from scattered data. "
      ],
      "metadata": {
        "id": "2UOKiO4SkcbV"
      }
    }
  ]
}